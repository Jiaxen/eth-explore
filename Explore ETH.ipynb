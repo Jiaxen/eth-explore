{
 "cells": [
  {
   "cell_type": "code",
   "execution_count": null,
   "id": "4990ae83",
   "metadata": {},
   "outputs": [],
   "source": [
    "pip install eth_tester web3 py-evm"
   ]
  },
  {
   "cell_type": "code",
   "execution_count": 1,
   "id": "7dd5abcb",
   "metadata": {},
   "outputs": [
    {
     "name": "stdout",
     "output_type": "stream",
     "text": [
      "env: PYTHONWARNINGS=default\n"
     ]
    }
   ],
   "source": [
    "%env PYTHONWARNINGS=default"
   ]
  },
  {
   "cell_type": "code",
   "execution_count": 1,
   "id": "d93ed28a",
   "metadata": {},
   "outputs": [
    {
     "data": {
      "text/plain": [
       "True"
      ]
     },
     "execution_count": 1,
     "metadata": {},
     "output_type": "execute_result"
    }
   ],
   "source": [
    "from web3 import Web3, EthereumTesterProvider\n",
    "w3 = Web3(EthereumTesterProvider())\n",
    "w3.isConnected()"
   ]
  },
  {
   "cell_type": "code",
   "execution_count": 2,
   "id": "1a395f88",
   "metadata": {},
   "outputs": [
    {
     "data": {
      "text/plain": [
       "['0x7E5F4552091A69125d5DfCb7b8C2659029395Bdf',\n",
       " '0x2B5AD5c4795c026514f8317c7a215E218DcCD6cF',\n",
       " '0x6813Eb9362372EEF6200f3b1dbC3f819671cBA69',\n",
       " '0x1efF47bc3a10a45D4B230B5d10E37751FE6AA718',\n",
       " '0xe1AB8145F7E55DC933d51a18c793F901A3A0b276',\n",
       " '0xE57bFE9F44b819898F47BF37E5AF72a0783e1141',\n",
       " '0xd41c057fd1c78805AAC12B0A94a405c0461A6FBb',\n",
       " '0xF1F6619B38A98d6De0800F1DefC0a6399eB6d30C',\n",
       " '0xF7Edc8FA1eCc32967F827C9043FcAe6ba73afA5c',\n",
       " '0x4CCeBa2d7D2B4fdcE4304d3e09a1fea9fbEb1528']"
      ]
     },
     "execution_count": 2,
     "metadata": {},
     "output_type": "execute_result"
    }
   ],
   "source": [
    "accounts = w3.eth.accounts\n",
    "accounts"
   ]
  },
  {
   "cell_type": "code",
   "execution_count": 3,
   "id": "272fd0eb",
   "metadata": {},
   "outputs": [
    {
     "data": {
      "text/plain": [
       "[1000000000000000000000000,\n",
       " 1000000000000000000000000,\n",
       " 1000000000000000000000000,\n",
       " 1000000000000000000000000,\n",
       " 1000000000000000000000000,\n",
       " 1000000000000000000000000,\n",
       " 1000000000000000000000000,\n",
       " 1000000000000000000000000,\n",
       " 1000000000000000000000000,\n",
       " 1000000000000000000000000]"
      ]
     },
     "execution_count": 3,
     "metadata": {},
     "output_type": "execute_result"
    }
   ],
   "source": [
    "balances = [w3.eth.get_balance(account) for account in accounts] \n",
    "balances"
   ]
  },
  {
   "cell_type": "code",
   "execution_count": 4,
   "id": "7e8d9c78",
   "metadata": {},
   "outputs": [
    {
     "data": {
      "text/plain": [
       "[Decimal('1000000'),\n",
       " Decimal('1000000'),\n",
       " Decimal('1000000'),\n",
       " Decimal('1000000'),\n",
       " Decimal('1000000'),\n",
       " Decimal('1000000'),\n",
       " Decimal('1000000'),\n",
       " Decimal('1000000'),\n",
       " Decimal('1000000'),\n",
       " Decimal('1000000')]"
      ]
     },
     "execution_count": 4,
     "metadata": {},
     "output_type": "execute_result"
    }
   ],
   "source": [
    "ether_balances = [w3.fromWei(x, 'ether') for x in balances]\n",
    "ether_balances"
   ]
  },
  {
   "cell_type": "code",
   "execution_count": 5,
   "id": "bde7277e",
   "metadata": {},
   "outputs": [
    {
     "data": {
      "text/plain": [
       "AttributeDict({'number': 0,\n",
       " 'hash': HexBytes('0xceeedf1ac0390c6ae348a4c3e244b70b8dd6815c2d4da9e1aa46090820740853'),\n",
       " 'parentHash': HexBytes('0x0000000000000000000000000000000000000000000000000000000000000000'),\n",
       " 'nonce': HexBytes('0x000000000000002a'),\n",
       " 'sha3Uncles': HexBytes('0x1dcc4de8dec75d7aab85b567b6ccd41ad312451b948a7413f0a142fd40d49347'),\n",
       " 'logs_bloom': 0,\n",
       " 'transactionsRoot': HexBytes('0x56e81f171bcc55a6ff8345e692c0f86e5b48e01b996cadc001622fb5e363b421'),\n",
       " 'receipts_root': '0x56e81f171bcc55a6ff8345e692c0f86e5b48e01b996cadc001622fb5e363b421',\n",
       " 'stateRoot': HexBytes('0xf1588db9a9f1ed91effabdec31f93cb4212b008c8b8ba047fd55fabebf6fd727'),\n",
       " 'miner': '0x0000000000000000000000000000000000000000',\n",
       " 'difficulty': 131072,\n",
       " 'totalDifficulty': 131072,\n",
       " 'size': 517,\n",
       " 'extraData': HexBytes('0x0000000000000000000000000000000000000000000000000000000000000000'),\n",
       " 'gasLimit': 30029122,\n",
       " 'gasUsed': 0,\n",
       " 'timestamp': 1649019036,\n",
       " 'transactions': [],\n",
       " 'uncles': [],\n",
       " 'baseFeePerGas': 1000000000})"
      ]
     },
     "execution_count": 5,
     "metadata": {},
     "output_type": "execute_result"
    }
   ],
   "source": [
    "w3.eth.get_block('latest')"
   ]
  },
  {
   "cell_type": "code",
   "execution_count": 7,
   "id": "c114a56b",
   "metadata": {},
   "outputs": [],
   "source": [
    "tx_hash = w3.eth.send_transaction({\n",
    "   'from': w3.eth.accounts[5],\n",
    "   'to': w3.eth.accounts[2],\n",
    "   'value': w3.toWei(2, 'ether'),\n",
    "})"
   ]
  },
  {
   "cell_type": "code",
   "execution_count": 8,
   "id": "c7c5f002",
   "metadata": {},
   "outputs": [
    {
     "data": {
      "text/plain": [
       "AttributeDict({'type': '0x2',\n",
       " 'hash': HexBytes('0xaca61d7921482cc4b5e3dc765ea05d3708e173c4098057b4ba6222273f58f0a3'),\n",
       " 'nonce': 0,\n",
       " 'blockHash': HexBytes('0x8ab365f168ed27df479ab45841e0439de1a405c79bad5e72040851b455867a22'),\n",
       " 'blockNumber': 1,\n",
       " 'transactionIndex': 0,\n",
       " 'from': '0xE57bFE9F44b819898F47BF37E5AF72a0783e1141',\n",
       " 'to': '0x6813Eb9362372EEF6200f3b1dbC3f819671cBA69',\n",
       " 'value': 2000000000000000000,\n",
       " 'gas': 121000,\n",
       " 'data': '0x',\n",
       " 'r': HexBytes('0x962870da3a6809c8a20087f6cf043fbb9a6b99dab4a7459355d253bb75af7548'),\n",
       " 's': HexBytes('0x59073e63518173af97c9899985ac2a774d80818c4316109098fbd0a3f4c6b7db'),\n",
       " 'v': 0,\n",
       " 'chain_id': 131277322940537,\n",
       " 'maxFeePerGas': 1000000000,\n",
       " 'maxPriorityFeePerGas': 1000000000,\n",
       " 'accessList': [],\n",
       " 'gasPrice': 1000000000})"
      ]
     },
     "execution_count": 8,
     "metadata": {},
     "output_type": "execute_result"
    }
   ],
   "source": [
    "w3.eth.wait_for_transaction_receipt(tx_hash)\n",
    "w3.eth.get_transaction(tx_hash)"
   ]
  },
  {
   "cell_type": "code",
   "execution_count": 9,
   "id": "9091cdfe",
   "metadata": {},
   "outputs": [
    {
     "data": {
      "text/plain": [
       "AttributeDict({'blockHash': HexBytes('0x8ab365f168ed27df479ab45841e0439de1a405c79bad5e72040851b455867a22'),\n",
       " 'blockNumber': 1,\n",
       " 'contractAddress': None,\n",
       " 'cumulativeGasUsed': 21000,\n",
       " 'effectiveGasPrice': 1000000000,\n",
       " 'from': '0xE57bFE9F44b819898F47BF37E5AF72a0783e1141',\n",
       " 'gasUsed': 21000,\n",
       " 'logs': [],\n",
       " 'state_root': b'\\x01',\n",
       " 'status': 1,\n",
       " 'to': '0x6813Eb9362372EEF6200f3b1dbC3f819671cBA69',\n",
       " 'transactionHash': HexBytes('0xaca61d7921482cc4b5e3dc765ea05d3708e173c4098057b4ba6222273f58f0a3'),\n",
       " 'transactionIndex': 0,\n",
       " 'type': '0x2'})"
      ]
     },
     "execution_count": 9,
     "metadata": {},
     "output_type": "execute_result"
    }
   ],
   "source": [
    "w3.eth.get_transaction_receipt(tx_hash)"
   ]
  },
  {
   "cell_type": "code",
   "execution_count": 10,
   "id": "572d5980",
   "metadata": {},
   "outputs": [
    {
     "data": {
      "text/plain": [
       "1000002000000000000000000"
      ]
     },
     "execution_count": 10,
     "metadata": {},
     "output_type": "execute_result"
    }
   ],
   "source": [
    "w3.eth.get_balance(w3.eth.accounts[2])"
   ]
  },
  {
   "cell_type": "code",
   "execution_count": 11,
   "id": "36b633ed",
   "metadata": {},
   "outputs": [
    {
     "data": {
      "text/plain": [
       "[1000000000000000000000000,\n",
       " 1000000000000000000000000,\n",
       " 1000002000000000000000000,\n",
       " 1000000000000000000000000,\n",
       " 1000000000000000000000000,\n",
       " 999997999979000000000000,\n",
       " 1000000000000000000000000,\n",
       " 1000000000000000000000000,\n",
       " 1000000000000000000000000,\n",
       " 1000000000000000000000000]"
      ]
     },
     "execution_count": 11,
     "metadata": {},
     "output_type": "execute_result"
    }
   ],
   "source": [
    "balances2 = [w3.eth.get_balance(account) for account in accounts] \n",
    "balances2"
   ]
  }
 ],
 "metadata": {
  "kernelspec": {
   "display_name": "Python 3 (ipykernel)",
   "language": "python",
   "name": "python3"
  },
  "language_info": {
   "codemirror_mode": {
    "name": "ipython",
    "version": 3
   },
   "file_extension": ".py",
   "mimetype": "text/x-python",
   "name": "python",
   "nbconvert_exporter": "python",
   "pygments_lexer": "ipython3",
   "version": "3.9.11"
  }
 },
 "nbformat": 4,
 "nbformat_minor": 5
}
